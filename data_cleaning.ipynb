{
  "nbformat": 4,
  "nbformat_minor": 0,
  "metadata": {
    "colab": {
      "provenance": [],
      "authorship_tag": "ABX9TyPsyer1GOEHOjaxFHzg0kKd",
      "include_colab_link": true
    },
    "kernelspec": {
      "name": "python3",
      "display_name": "Python 3"
    },
    "language_info": {
      "name": "python"
    }
  },
  "cells": [
    {
      "cell_type": "markdown",
      "metadata": {
        "id": "view-in-github",
        "colab_type": "text"
      },
      "source": [
        "<a href=\"https://colab.research.google.com/github/jwashb22/redfin_scraper/blob/main/data_cleaning.ipynb\" target=\"_parent\"><img src=\"https://colab.research.google.com/assets/colab-badge.svg\" alt=\"Open In Colab\"/></a>"
      ]
    },
    {
      "cell_type": "code",
      "execution_count": 1,
      "metadata": {
        "id": "VAP0TBn5BXS4"
      },
      "outputs": [],
      "source": [
        "import pandas as pd"
      ]
    },
    {
      "cell_type": "code",
      "source": [
        "df = pd.read_csv('real_estate.csv')"
      ],
      "metadata": {
        "id": "EchfIG21Bg40"
      },
      "execution_count": 2,
      "outputs": []
    },
    {
      "cell_type": "code",
      "source": [
        "df = df[df['baths'] != '— baths']\n",
        "df = df.drop('Unnamed: 0', axis=1)"
      ],
      "metadata": {
        "id": "B0vcX8ljCRWa"
      },
      "execution_count": 3,
      "outputs": []
    },
    {
      "cell_type": "code",
      "source": [
        "df['address1'] = df['address']"
      ],
      "metadata": {
        "id": "8OK914uVEJKD"
      },
      "execution_count": 4,
      "outputs": []
    },
    {
      "cell_type": "code",
      "source": [
        "df[['address', 'city', 'zip_code']] = df['address1'].str.split(',', expand=True)"
      ],
      "metadata": {
        "id": "oRpxv9WXIhr_"
      },
      "execution_count": 7,
      "outputs": []
    },
    {
      "cell_type": "code",
      "source": [
        "df = df.drop('address1', axis=1)"
      ],
      "metadata": {
        "id": "XmENBw2-Imje"
      },
      "execution_count": 11,
      "outputs": []
    },
    {
      "cell_type": "code",
      "source": [
        "df['zip_code'] = df['zip_code'].str.replace('UT ', '', regex=True)"
      ],
      "metadata": {
        "id": "33Lqh37QInnU"
      },
      "execution_count": 17,
      "outputs": []
    },
    {
      "cell_type": "code",
      "source": [
        "df.to_csv('cleaned_real_estate.csv')"
      ],
      "metadata": {
        "id": "PMUMUJ6fJZzu"
      },
      "execution_count": 20,
      "outputs": []
    }
  ]
}